{
 "cells": [
  {
   "cell_type": "markdown",
   "source": [
    "<h1> CSCI 567 - Machine Learning - Spring 2021 </h1>\n",
    "<h2> Project: Chekcpoint 1 - Data Preprocessing (03/10/21) </h2>\n",
    "<h3> Team <u>StochasticResults</u>: </h3>\n",
    " - Abel Salinas [8793999216] [abelsali@usc.edu] <br>\n",
    " - Angel Nieto [2211798052] [nietogar@usc.edu] <br>\n",
    " - Misael Morales [5832732058] [misaelmo@usc.edu]"
   ],
   "metadata": {
    "papermill": {
     "duration": 0.022927,
     "end_time": "2021-04-30T02:39:09.228692",
     "exception": false,
     "start_time": "2021-04-30T02:39:09.205765",
     "status": "completed"
    },
    "tags": []
   }
  },
  {
   "cell_type": "markdown",
   "source": [
    "***"
   ],
   "metadata": {
    "papermill": {
     "duration": 0.020046,
     "end_time": "2021-04-30T02:39:09.269310",
     "exception": false,
     "start_time": "2021-04-30T02:39:09.249264",
     "status": "completed"
    },
    "tags": []
   }
  },
  {
   "cell_type": "markdown",
   "source": [
    "The \"Housing Price\" dataset consists of 79 predictors for the house prices in Ames, Iowa. The training and testing set are already pre-split for us from the Kaggle version (https://www.kaggle.com/c/house-prices-advanced-regression-techniques/overview), and we will focus on different regression techniques to predict the housing SalePrice based on the given features.\n",
    "\n",
    "This notebook focuses on the data pre-processing, wrangling, visualization, and statistical analysis. It is a crucial step in any machine-learning/data-analytics application to ensure proper data formatting in order to optimize the techniques implemented. "
   ],
   "metadata": {
    "papermill": {
     "duration": 0.019938,
     "end_time": "2021-04-30T02:39:09.309383",
     "exception": false,
     "start_time": "2021-04-30T02:39:09.289445",
     "status": "completed"
    },
    "tags": []
   }
  },
  {
   "cell_type": "markdown",
   "source": [
    "# Table of Contents:\n",
    "1. Load required packages <br>\n",
    "2. Data wrangling <br>\n",
    "3. Data visualization <br>\n",
    "4. Exploratory data analysis"
   ],
   "metadata": {
    "papermill": {
     "duration": 0.022278,
     "end_time": "2021-04-30T02:39:09.351784",
     "exception": false,
     "start_time": "2021-04-30T02:39:09.329506",
     "status": "completed"
    },
    "tags": []
   }
  },
  {
   "cell_type": "markdown",
   "source": [
    "***"
   ],
   "metadata": {
    "papermill": {
     "duration": 0.020072,
     "end_time": "2021-04-30T02:39:09.392213",
     "exception": false,
     "start_time": "2021-04-30T02:39:09.372141",
     "status": "completed"
    },
    "tags": []
   }
  },
  {
   "cell_type": "markdown",
   "source": [
    "# 1. Load required libraries"
   ],
   "metadata": {
    "papermill": {
     "duration": 0.019958,
     "end_time": "2021-04-30T02:39:09.432596",
     "exception": false,
     "start_time": "2021-04-30T02:39:09.412638",
     "status": "completed"
    },
    "tags": []
   }
  },
  {
   "cell_type": "code",
   "execution_count": 1,
   "source": [
    "# This Python 3 environment comes with many helpful analytics libraries installed\n",
    "# It is defined by the kaggle/python Docker image: https://github.com/kaggle/docker-python\n",
    "# For example, here's several helpful packages to load\n",
    "\n",
    "import numpy as np # linear algebra\n",
    "import pandas as pd # data processing, CSV file I/O (e.g. pd.read_csv)\n",
    "\n",
    "# Input data files are available in the read-only \"../input/\" directory\n",
    "# For example, running this (by clicking run or pressing Shift+Enter) will list all files under the input directory\n",
    "\n",
    "import os\n",
    "for dirname, _, filenames in os.walk('/kaggle/input'):\n",
    "    for filename in filenames:\n",
    "        print(os.path.join(dirname, filename))\n",
    "\n",
    "# You can write up to 20GB to the current directory (/kaggle/working/) that gets preserved as output when you create a version using \"Save & Run All\" \n",
    "# You can also write temporary files to /kaggle/temp/, but they won't be saved outside of the current session"
   ],
   "outputs": [],
   "metadata": {
    "execution": {
     "iopub.execute_input": "2021-04-30T02:39:09.484265Z",
     "iopub.status.busy": "2021-04-30T02:39:09.483562Z",
     "iopub.status.idle": "2021-04-30T02:39:09.493516Z",
     "shell.execute_reply": "2021-04-30T02:39:09.492718Z"
    },
    "papermill": {
     "duration": 0.040622,
     "end_time": "2021-04-30T02:39:09.493693",
     "exception": false,
     "start_time": "2021-04-30T02:39:09.453071",
     "status": "completed"
    },
    "tags": []
   }
  },
  {
   "cell_type": "code",
   "execution_count": 2,
   "source": [
    "# Basic data management packages\n",
    "import os\n",
    "import numpy as np\n",
    "import pandas as pd\n",
    "\n",
    "# Visualization packages\n",
    "import matplotlib.pyplot as plt\n",
    "import seaborn as sns\n",
    "import pandas.plotting as pd_plot\n",
    "%matplotlib inline"
   ],
   "outputs": [],
   "metadata": {
    "execution": {
     "iopub.execute_input": "2021-04-30T02:39:09.543356Z",
     "iopub.status.busy": "2021-04-30T02:39:09.542681Z",
     "iopub.status.idle": "2021-04-30T02:39:10.449569Z",
     "shell.execute_reply": "2021-04-30T02:39:10.450317Z"
    },
    "papermill": {
     "duration": 0.934254,
     "end_time": "2021-04-30T02:39:10.450496",
     "exception": false,
     "start_time": "2021-04-30T02:39:09.516242",
     "status": "completed"
    },
    "tags": []
   }
  },
  {
   "cell_type": "code",
   "execution_count": 4,
   "source": [
    "# Exploratory Data Analysis packages\n",
    "from sklearn.preprocessing import StandardScaler, RobustScaler\n",
    "from sklearn.decomposition import PCA  \n",
    "from sklearn.manifold import TSNE\n",
    "from sklearn.cluster import KMeans, AgglomerativeClustering\n",
    "from sklearn.mixture import GaussianMixture\n",
    "from sklearn.neighbors import LocalOutlierFactor\n",
    "from sklearn.linear_model import LinearRegression, ElasticNet, Lasso,  BayesianRidge, LassoLarsIC\n",
    "from sklearn.kernel_ridge import KernelRidge\n",
    "from sklearn.pipeline import make_pipeline\n",
    "from sklearn.ensemble import (BaggingRegressor, AdaBoostRegressor,GradientBoostingRegressor, \n",
    "                              RandomForestRegressor,  GradientBoostingRegressor)\n",
    "from sklearn.model_selection import StratifiedKFold, KFold, cross_val_score\n",
    "from sklearn.base import BaseEstimator, TransformerMixin, RegressorMixin, clone\n",
    "from mlxtend.regressor import StackingCVRegressor\n",
    "from sklearn.metrics import r2_score, mean_absolute_error\n",
    "\n",
    "from scipy.stats import norm, skew #for some statistics\n",
    "\n",
    "#from lightgbm import LGBMRegressor\n",
    "#import xgboost\n",
    "import lightgbm"
   ],
   "outputs": [],
   "metadata": {
    "execution": {
     "iopub.execute_input": "2021-04-30T02:39:10.499681Z",
     "iopub.status.busy": "2021-04-30T02:39:10.498717Z",
     "iopub.status.idle": "2021-04-30T02:39:12.353585Z",
     "shell.execute_reply": "2021-04-30T02:39:12.354505Z"
    },
    "papermill": {
     "duration": 1.882957,
     "end_time": "2021-04-30T02:39:12.354748",
     "exception": false,
     "start_time": "2021-04-30T02:39:10.471791",
     "status": "completed"
    },
    "tags": []
   }
  },
  {
   "cell_type": "code",
   "execution_count": 5,
   "source": [
    "# Regression and Modeling packages\n",
    "import tensorflow as tf\n",
    "import keras\n",
    "from scipy import stats\n",
    "from sklearn.metrics import mean_squared_error, r2_score\n",
    "\n",
    "# Verify GPU compatibility\n",
    "print(\"Tensorflow Version:\", tf.__version__)\n",
    "print(\"Tensorflow built with CUDA?\", tf.test.is_built_with_cuda())\n",
    "print(tf.config.list_physical_devices('CPU'))\n",
    "print(tf.config.list_physical_devices('GPU'))\n",
    "print(\"Num GPU Available:\", len(tf.config.list_physical_devices('GPU')))"
   ],
   "outputs": [
    {
     "output_type": "stream",
     "name": "stdout",
     "text": [
      "Tensorflow Version: 2.3.0\n",
      "Tensorflow built with CUDA? False\n",
      "[PhysicalDevice(name='/physical_device:CPU:0', device_type='CPU')]\n",
      "[]\n",
      "Num GPU Available: 0\n"
     ]
    }
   ],
   "metadata": {
    "execution": {
     "iopub.execute_input": "2021-04-30T02:39:12.415511Z",
     "iopub.status.busy": "2021-04-30T02:39:12.414788Z",
     "iopub.status.idle": "2021-04-30T02:39:18.581472Z",
     "shell.execute_reply": "2021-04-30T02:39:18.581950Z"
    },
    "papermill": {
     "duration": 6.199265,
     "end_time": "2021-04-30T02:39:18.582136",
     "exception": false,
     "start_time": "2021-04-30T02:39:12.382871",
     "status": "completed"
    },
    "tags": []
   }
  },
  {
   "cell_type": "markdown",
   "source": [
    "***"
   ],
   "metadata": {
    "papermill": {
     "duration": 0.021486,
     "end_time": "2021-04-30T02:39:18.625760",
     "exception": false,
     "start_time": "2021-04-30T02:39:18.604274",
     "status": "completed"
    },
    "tags": []
   }
  },
  {
   "cell_type": "code",
   "execution_count": 6,
   "source": [
    "# Read CSV files for Train/Test datasets\n",
    "train_csv = '/kaggle/input/house-prices-advanced-regression-techniques/train.csv'\n",
    "test_csv  = '/kaggle/input/house-prices-advanced-regression-techniques/test.csv'\n",
    "if not os.path.isfile(train_csv):\n",
    "    train_csv = 'train.csv'\n",
    "    test_csv = 'test.csv'\n",
    "    \n",
    "train_df = pd.read_csv(train_csv)\n",
    "test_df  = pd.read_csv(test_csv)"
   ],
   "outputs": [],
   "metadata": {
    "execution": {
     "iopub.execute_input": "2021-04-30T02:39:18.674796Z",
     "iopub.status.busy": "2021-04-30T02:39:18.674198Z",
     "iopub.status.idle": "2021-04-30T02:39:18.751510Z",
     "shell.execute_reply": "2021-04-30T02:39:18.752007Z"
    },
    "papermill": {
     "duration": 0.104504,
     "end_time": "2021-04-30T02:39:18.752182",
     "exception": false,
     "start_time": "2021-04-30T02:39:18.647678",
     "status": "completed"
    },
    "tags": []
   }
  },
  {
   "cell_type": "code",
   "execution_count": 7,
   "source": [
    "print('Train Shape: {} | types: {} \\nTest Shape:  {} | types: {}'.format(train_df.shape, pd.unique(train_df.dtypes), \n",
    "                                                                       test_df.shape, pd.unique(test_df.dtypes)))\n",
    "print('Set difference train-vs-test: {}'.format(set(train_df.columns).difference(set(test_df.columns))))"
   ],
   "outputs": [
    {
     "output_type": "stream",
     "name": "stdout",
     "text": [
      "Train Shape: (1460, 81) | types: [dtype('int64') dtype('O') dtype('float64')] \n",
      "Test Shape:  (1459, 80) | types: [dtype('int64') dtype('O') dtype('float64')]\n",
      "Set difference train-vs-test: {'SalePrice'}\n"
     ]
    }
   ],
   "metadata": {
    "execution": {
     "iopub.execute_input": "2021-04-30T02:39:18.807302Z",
     "iopub.status.busy": "2021-04-30T02:39:18.806634Z",
     "iopub.status.idle": "2021-04-30T02:39:18.814644Z",
     "shell.execute_reply": "2021-04-30T02:39:18.815211Z"
    },
    "papermill": {
     "duration": 0.040903,
     "end_time": "2021-04-30T02:39:18.815406",
     "exception": false,
     "start_time": "2021-04-30T02:39:18.774503",
     "status": "completed"
    },
    "tags": []
   }
  },
  {
   "cell_type": "code",
   "execution_count": 8,
   "source": [
    "original_train_df = train_df.copy()\n",
    "corr = train_df.corr()"
   ],
   "outputs": [],
   "metadata": {
    "execution": {
     "iopub.execute_input": "2021-04-30T02:39:18.864000Z",
     "iopub.status.busy": "2021-04-30T02:39:18.863048Z",
     "iopub.status.idle": "2021-04-30T02:39:18.877441Z",
     "shell.execute_reply": "2021-04-30T02:39:18.877919Z"
    },
    "papermill": {
     "duration": 0.040402,
     "end_time": "2021-04-30T02:39:18.878108",
     "exception": false,
     "start_time": "2021-04-30T02:39:18.837706",
     "status": "completed"
    },
    "tags": []
   }
  },
  {
   "cell_type": "code",
   "execution_count": 9,
   "source": [
    "#Visualize columns have corr with SalePrice\n",
    "\n",
    "high_corr = corr['SalePrice'].sort_values(ascending=False)[1:][:13].index.tolist()\n",
    "\n",
    "fig, axes = plt.subplots(4,3, figsize=(20, 10), sharey=True);\n",
    "plt.subplots_adjust(hspace = 0.7, wspace=0.1)\n",
    "fig.suptitle('Highest Correlation with sale price', fontsize=20);\n",
    "\n",
    "for i,col in zip(range(12),high_corr):\n",
    "    sns.scatterplot(y=train_df['SalePrice'], x=train_df[col], ax=axes[i//3][i%3])\n",
    "    axes[i//3][i%3].set_title('SalesPrice with '+col)"
   ],
   "outputs": [
    {
     "output_type": "display_data",
     "data": {
      "image/png": "[encoded data removed]",
      "text/plain": [
       "<Figure size 1440x720 with 12 Axes>"
      ]
     },
     "metadata": {
      "needs_background": "light"
     }
    }
   ],
   "metadata": {
    "execution": {
     "iopub.execute_input": "2021-04-30T02:39:18.926889Z",
     "iopub.status.busy": "2021-04-30T02:39:18.925918Z",
     "iopub.status.idle": "2021-04-30T02:39:20.575775Z",
     "shell.execute_reply": "2021-04-30T02:39:20.576332Z"
    },
    "papermill": {
     "duration": 1.676177,
     "end_time": "2021-04-30T02:39:20.576529",
     "exception": false,
     "start_time": "2021-04-30T02:39:18.900352",
     "status": "completed"
    },
    "tags": []
   }
  },
  {
   "cell_type": "code",
   "execution_count": 10,
   "source": [
    "#selectting the index of outliers from the scatter plots above\n",
    "\n",
    "drop_index = train_df[((train_df['GarageArea']>1200) & (train_df['SalePrice']<300000))|\n",
    "                  ((train_df['GrLivArea']>5000) & (train_df['SalePrice']<300000))|\n",
    "                  ((train_df['1stFlrSF']>4000) & (train_df['SalePrice']<300000))|\n",
    "                  ((train_df['TotalBsmtSF']>5000) & (train_df['SalePrice']<300000))|\n",
    "                  ((train_df['MasVnrArea']>1200) & (train_df['SalePrice']<700000))|\n",
    "                  ((train_df['SalePrice']>600000))].index"
   ],
   "outputs": [],
   "metadata": {
    "execution": {
     "iopub.execute_input": "2021-04-30T02:39:20.641923Z",
     "iopub.status.busy": "2021-04-30T02:39:20.640888Z",
     "iopub.status.idle": "2021-04-30T02:39:20.647185Z",
     "shell.execute_reply": "2021-04-30T02:39:20.646664Z"
    },
    "papermill": {
     "duration": 0.0428,
     "end_time": "2021-04-30T02:39:20.647337",
     "exception": false,
     "start_time": "2021-04-30T02:39:20.604537",
     "status": "completed"
    },
    "tags": []
   }
  },
  {
   "cell_type": "code",
   "execution_count": 11,
   "source": [
    "x_train = train_df.iloc[:,1:-1]  #79 train features\n",
    "y_train = train_df.iloc[:,-1]    #SalePrice training target\n",
    "\n",
    "y_train = np.log1p(y_train) \n",
    "\n",
    "x_test  = test_df.iloc[:,1:]     #79 test features\n",
    "print('x_train {} | y_train {} \\nx_test  {}'.format(x_train.shape, y_train.shape, x_test.shape))"
   ],
   "outputs": [
    {
     "output_type": "stream",
     "name": "stdout",
     "text": [
      "x_train (1460, 79) | y_train (1460,) \n",
      "x_test  (1459, 79)\n"
     ]
    }
   ],
   "metadata": {
    "execution": {
     "iopub.execute_input": "2021-04-30T02:39:20.709669Z",
     "iopub.status.busy": "2021-04-30T02:39:20.707434Z",
     "iopub.status.idle": "2021-04-30T02:39:20.714895Z",
     "shell.execute_reply": "2021-04-30T02:39:20.715350Z"
    },
    "papermill": {
     "duration": 0.040854,
     "end_time": "2021-04-30T02:39:20.715629",
     "exception": false,
     "start_time": "2021-04-30T02:39:20.674775",
     "status": "completed"
    },
    "tags": []
   }
  },
  {
   "cell_type": "code",
   "execution_count": 12,
   "source": [
    "#preview the training data set\n",
    "x_train.head()"
   ],
   "outputs": [
    {
     "output_type": "execute_result",
     "data": {
      "text/html": [
       "<div>\n",
       "<style scoped>\n",
       "    .dataframe tbody tr th:only-of-type {\n",
       "        vertical-align: middle;\n",
       "    }\n",
       "\n",
       "    .dataframe tbody tr th {\n",
       "        vertical-align: top;\n",
       "    }\n",
       "\n",
       "    .dataframe thead th {\n",
       "        text-align: right;\n",
       "    }\n",
       "</style>\n",
       "<table border=\"1\" class=\"dataframe\">\n",
       "  <thead>\n",
       "    <tr style=\"text-align: right;\">\n",
       "      <th></th>\n",
       "      <th>MSSubClass</th>\n",
       "      <th>MSZoning</th>\n",
       "      <th>LotFrontage</th>\n",
       "      <th>LotArea</th>\n",
       "      <th>Street</th>\n",
       "      <th>Alley</th>\n",
       "      <th>LotShape</th>\n",
       "      <th>LandContour</th>\n",
       "      <th>Utilities</th>\n",
       "      <th>LotConfig</th>\n",
       "      <th>...</th>\n",
       "      <th>ScreenPorch</th>\n",
       "      <th>PoolArea</th>\n",
       "      <th>PoolQC</th>\n",
       "      <th>Fence</th>\n",
       "      <th>MiscFeature</th>\n",
       "      <th>MiscVal</th>\n",
       "      <th>MoSold</th>\n",
       "      <th>YrSold</th>\n",
       "      <th>SaleType</th>\n",
       "      <th>SaleCondition</th>\n",
       "    </tr>\n",
       "  </thead>\n",
       "  <tbody>\n",
       "    <tr>\n",
       "      <th>0</th>\n",
       "      <td>60</td>\n",
       "      <td>RL</td>\n",
       "      <td>65.0</td>\n",
       "      <td>8450</td>\n",
       "      <td>Pave</td>\n",
       "      <td>NaN</td>\n",
       "      <td>Reg</td>\n",
       "      <td>Lvl</td>\n",
       "      <td>AllPub</td>\n",
       "      <td>Inside</td>\n",
       "      <td>...</td>\n",
       "      <td>0</td>\n",
       "      <td>0</td>\n",
       "      <td>NaN</td>\n",
       "      <td>NaN</td>\n",
       "      <td>NaN</td>\n",
       "      <td>0</td>\n",
       "      <td>2</td>\n",
       "      <td>2008</td>\n",
       "      <td>WD</td>\n",
       "      <td>Normal</td>\n",
       "    </tr>\n",
       "    <tr>\n",
       "      <th>1</th>\n",
       "      <td>20</td>\n",
       "      <td>RL</td>\n",
       "      <td>80.0</td>\n",
       "      <td>9600</td>\n",
       "      <td>Pave</td>\n",
       "      <td>NaN</td>\n",
       "      <td>Reg</td>\n",
       "      <td>Lvl</td>\n",
       "      <td>AllPub</td>\n",
       "      <td>FR2</td>\n",
       "      <td>...</td>\n",
       "      <td>0</td>\n",
       "      <td>0</td>\n",
       "      <td>NaN</td>\n",
       "      <td>NaN</td>\n",
       "      <td>NaN</td>\n",
       "      <td>0</td>\n",
       "      <td>5</td>\n",
       "      <td>2007</td>\n",
       "      <td>WD</td>\n",
       "      <td>Normal</td>\n",
       "    </tr>\n",
       "    <tr>\n",
       "      <th>2</th>\n",
       "      <td>60</td>\n",
       "      <td>RL</td>\n",
       "      <td>68.0</td>\n",
       "      <td>11250</td>\n",
       "      <td>Pave</td>\n",
       "      <td>NaN</td>\n",
       "      <td>IR1</td>\n",
       "      <td>Lvl</td>\n",
       "      <td>AllPub</td>\n",
       "      <td>Inside</td>\n",
       "      <td>...</td>\n",
       "      <td>0</td>\n",
       "      <td>0</td>\n",
       "      <td>NaN</td>\n",
       "      <td>NaN</td>\n",
       "      <td>NaN</td>\n",
       "      <td>0</td>\n",
       "      <td>9</td>\n",
       "      <td>2008</td>\n",
       "      <td>WD</td>\n",
       "      <td>Normal</td>\n",
       "    </tr>\n",
       "    <tr>\n",
       "      <th>3</th>\n",
       "      <td>70</td>\n",
       "      <td>RL</td>\n",
       "      <td>60.0</td>\n",
       "      <td>9550</td>\n",
       "      <td>Pave</td>\n",
       "      <td>NaN</td>\n",
       "      <td>IR1</td>\n",
       "      <td>Lvl</td>\n",
       "      <td>AllPub</td>\n",
       "      <td>Corner</td>\n",
       "      <td>...</td>\n",
       "      <td>0</td>\n",
       "      <td>0</td>\n",
       "      <td>NaN</td>\n",
       "      <td>NaN</td>\n",
       "      <td>NaN</td>\n",
       "      <td>0</td>\n",
       "      <td>2</td>\n",
       "      <td>2006</td>\n",
       "      <td>WD</td>\n",
       "      <td>Abnorml</td>\n",
       "    </tr>\n",
       "    <tr>\n",
       "      <th>4</th>\n",
       "      <td>60</td>\n",
       "      <td>RL</td>\n",
       "      <td>84.0</td>\n",
       "      <td>14260</td>\n",
       "      <td>Pave</td>\n",
       "      <td>NaN</td>\n",
       "      <td>IR1</td>\n",
       "      <td>Lvl</td>\n",
       "      <td>AllPub</td>\n",
       "      <td>FR2</td>\n",
       "      <td>...</td>\n",
       "      <td>0</td>\n",
       "      <td>0</td>\n",
       "      <td>NaN</td>\n",
       "      <td>NaN</td>\n",
       "      <td>NaN</td>\n",
       "      <td>0</td>\n",
       "      <td>12</td>\n",
       "      <td>2008</td>\n",
       "      <td>WD</td>\n",
       "      <td>Normal</td>\n",
       "    </tr>\n",
       "  </tbody>\n",
       "</table>\n",
       "<p>5 rows × 79 columns</p>\n",
       "</div>"
      ],
      "text/plain": [
       "   MSSubClass MSZoning  LotFrontage  LotArea Street Alley LotShape  \\\n",
       "0          60       RL         65.0     8450   Pave   NaN      Reg   \n",
       "1          20       RL         80.0     9600   Pave   NaN      Reg   \n",
       "2          60       RL         68.0    11250   Pave   NaN      IR1   \n",
       "3          70       RL         60.0     9550   Pave   NaN      IR1   \n",
       "4          60       RL         84.0    14260   Pave   NaN      IR1   \n",
       "\n",
       "  LandContour Utilities LotConfig  ... ScreenPorch PoolArea PoolQC Fence  \\\n",
       "0         Lvl    AllPub    Inside  ...           0        0    NaN   NaN   \n",
       "1         Lvl    AllPub       FR2  ...           0        0    NaN   NaN   \n",
       "2         Lvl    AllPub    Inside  ...           0        0    NaN   NaN   \n",
       "3         Lvl    AllPub    Corner  ...           0        0    NaN   NaN   \n",
       "4         Lvl    AllPub       FR2  ...           0        0    NaN   NaN   \n",
       "\n",
       "  MiscFeature MiscVal  MoSold  YrSold  SaleType  SaleCondition  \n",
       "0         NaN       0       2    2008        WD         Normal  \n",
       "1         NaN       0       5    2007        WD         Normal  \n",
       "2         NaN       0       9    2008        WD         Normal  \n",
       "3         NaN       0       2    2006        WD        Abnorml  \n",
       "4         NaN       0      12    2008        WD         Normal  \n",
       "\n",
       "[5 rows x 79 columns]"
      ]
     },
     "metadata": {},
     "execution_count": 12
    }
   ],
   "metadata": {
    "execution": {
     "iopub.execute_input": "2021-04-30T02:39:20.780899Z",
     "iopub.status.busy": "2021-04-30T02:39:20.779947Z",
     "iopub.status.idle": "2021-04-30T02:39:20.805851Z",
     "shell.execute_reply": "2021-04-30T02:39:20.805275Z"
    },
    "papermill": {
     "duration": 0.06245,
     "end_time": "2021-04-30T02:39:20.805987",
     "exception": false,
     "start_time": "2021-04-30T02:39:20.743537",
     "status": "completed"
    },
    "tags": []
   }
  },
  {
   "cell_type": "code",
   "execution_count": 13,
   "source": [
    "#preview the testing data set\n",
    "x_test.head()"
   ],
   "outputs": [
    {
     "output_type": "execute_result",
     "data": {
      "text/html": [
       "<div>\n",
       "<style scoped>\n",
       "    .dataframe tbody tr th:only-of-type {\n",
       "        vertical-align: middle;\n",
       "    }\n",
       "\n",
       "    .dataframe tbody tr th {\n",
       "        vertical-align: top;\n",
       "    }\n",
       "\n",
       "    .dataframe thead th {\n",
       "        text-align: right;\n",
       "    }\n",
       "</style>\n",
       "<table border=\"1\" class=\"dataframe\">\n",
       "  <thead>\n",
       "    <tr style=\"text-align: right;\">\n",
       "      <th></th>\n",
       "      <th>MSSubClass</th>\n",
       "      <th>MSZoning</th>\n",
       "      <th>LotFrontage</th>\n",
       "      <th>LotArea</th>\n",
       "      <th>Street</th>\n",
       "      <th>Alley</th>\n",
       "      <th>LotShape</th>\n",
       "      <th>LandContour</th>\n",
       "      <th>Utilities</th>\n",
       "      <th>LotConfig</th>\n",
       "      <th>...</th>\n",
       "      <th>ScreenPorch</th>\n",
       "      <th>PoolArea</th>\n",
       "      <th>PoolQC</th>\n",
       "      <th>Fence</th>\n",
       "      <th>MiscFeature</th>\n",
       "      <th>MiscVal</th>\n",
       "      <th>MoSold</th>\n",
       "      <th>YrSold</th>\n",
       "      <th>SaleType</th>\n",
       "      <th>SaleCondition</th>\n",
       "    </tr>\n",
       "  </thead>\n",
       "  <tbody>\n",
       "    <tr>\n",
       "      <th>0</th>\n",
       "      <td>20</td>\n",
       "      <td>RH</td>\n",
       "      <td>80.0</td>\n",
       "      <td>11622</td>\n",
       "      <td>Pave</td>\n",
       "      <td>NaN</td>\n",
       "      <td>Reg</td>\n",
       "      <td>Lvl</td>\n",
       "      <td>AllPub</td>\n",
       "      <td>Inside</td>\n",
       "      <td>...</td>\n",
       "      <td>120</td>\n",
       "      <td>0</td>\n",
       "      <td>NaN</td>\n",
       "      <td>MnPrv</td>\n",
       "      <td>NaN</td>\n",
       "      <td>0</td>\n",
       "      <td>6</td>\n",
       "      <td>2010</td>\n",
       "      <td>WD</td>\n",
       "      <td>Normal</td>\n",
       "    </tr>\n",
       "    <tr>\n",
       "      <th>1</th>\n",
       "      <td>20</td>\n",
       "      <td>RL</td>\n",
       "      <td>81.0</td>\n",
       "      <td>14267</td>\n",
       "      <td>Pave</td>\n",
       "      <td>NaN</td>\n",
       "      <td>IR1</td>\n",
       "      <td>Lvl</td>\n",
       "      <td>AllPub</td>\n",
       "      <td>Corner</td>\n",
       "      <td>...</td>\n",
       "      <td>0</td>\n",
       "      <td>0</td>\n",
       "      <td>NaN</td>\n",
       "      <td>NaN</td>\n",
       "      <td>Gar2</td>\n",
       "      <td>12500</td>\n",
       "      <td>6</td>\n",
       "      <td>2010</td>\n",
       "      <td>WD</td>\n",
       "      <td>Normal</td>\n",
       "    </tr>\n",
       "    <tr>\n",
       "      <th>2</th>\n",
       "      <td>60</td>\n",
       "      <td>RL</td>\n",
       "      <td>74.0</td>\n",
       "      <td>13830</td>\n",
       "      <td>Pave</td>\n",
       "      <td>NaN</td>\n",
       "      <td>IR1</td>\n",
       "      <td>Lvl</td>\n",
       "      <td>AllPub</td>\n",
       "      <td>Inside</td>\n",
       "      <td>...</td>\n",
       "      <td>0</td>\n",
       "      <td>0</td>\n",
       "      <td>NaN</td>\n",
       "      <td>MnPrv</td>\n",
       "      <td>NaN</td>\n",
       "      <td>0</td>\n",
       "      <td>3</td>\n",
       "      <td>2010</td>\n",
       "      <td>WD</td>\n",
       "      <td>Normal</td>\n",
       "    </tr>\n",
       "    <tr>\n",
       "      <th>3</th>\n",
       "      <td>60</td>\n",
       "      <td>RL</td>\n",
       "      <td>78.0</td>\n",
       "      <td>9978</td>\n",
       "      <td>Pave</td>\n",
       "      <td>NaN</td>\n",
       "      <td>IR1</td>\n",
       "      <td>Lvl</td>\n",
       "      <td>AllPub</td>\n",
       "      <td>Inside</td>\n",
       "      <td>...</td>\n",
       "      <td>0</td>\n",
       "      <td>0</td>\n",
       "      <td>NaN</td>\n",
       "      <td>NaN</td>\n",
       "      <td>NaN</td>\n",
       "      <td>0</td>\n",
       "      <td>6</td>\n",
       "      <td>2010</td>\n",
       "      <td>WD</td>\n",
       "      <td>Normal</td>\n",
       "    </tr>\n",
       "    <tr>\n",
       "      <th>4</th>\n",
       "      <td>120</td>\n",
       "      <td>RL</td>\n",
       "      <td>43.0</td>\n",
       "      <td>5005</td>\n",
       "      <td>Pave</td>\n",
       "      <td>NaN</td>\n",
       "      <td>IR1</td>\n",
       "      <td>HLS</td>\n",
       "      <td>AllPub</td>\n",
       "      <td>Inside</td>\n",
       "      <td>...</td>\n",
       "      <td>144</td>\n",
       "      <td>0</td>\n",
       "      <td>NaN</td>\n",
       "      <td>NaN</td>\n",
       "      <td>NaN</td>\n",
       "      <td>0</td>\n",
       "      <td>1</td>\n",
       "      <td>2010</td>\n",
       "      <td>WD</td>\n",
       "      <td>Normal</td>\n",
       "    </tr>\n",
       "  </tbody>\n",
       "</table>\n",
       "<p>5 rows × 79 columns</p>\n",
       "</div>"
      ],
      "text/plain": [
       "   MSSubClass MSZoning  LotFrontage  LotArea Street Alley LotShape  \\\n",
       "0          20       RH         80.0    11622   Pave   NaN      Reg   \n",
       "1          20       RL         81.0    14267   Pave   NaN      IR1   \n",
       "2          60       RL         74.0    13830   Pave   NaN      IR1   \n",
       "3          60       RL         78.0     9978   Pave   NaN      IR1   \n",
       "4         120       RL         43.0     5005   Pave   NaN      IR1   \n",
       "\n",
       "  LandContour Utilities LotConfig  ... ScreenPorch PoolArea PoolQC  Fence  \\\n",
       "0         Lvl    AllPub    Inside  ...         120        0    NaN  MnPrv   \n",
       "1         Lvl    AllPub    Corner  ...           0        0    NaN    NaN   \n",
       "2         Lvl    AllPub    Inside  ...           0        0    NaN  MnPrv   \n",
       "3         Lvl    AllPub    Inside  ...           0        0    NaN    NaN   \n",
       "4         HLS    AllPub    Inside  ...         144        0    NaN    NaN   \n",
       "\n",
       "  MiscFeature MiscVal  MoSold  YrSold  SaleType  SaleCondition  \n",
       "0         NaN       0       6    2010        WD         Normal  \n",
       "1        Gar2   12500       6    2010        WD         Normal  \n",
       "2         NaN       0       3    2010        WD         Normal  \n",
       "3         NaN       0       6    2010        WD         Normal  \n",
       "4         NaN       0       1    2010        WD         Normal  \n",
       "\n",
       "[5 rows x 79 columns]"
      ]
     },
     "metadata": {},
     "execution_count": 13
    }
   ],
   "metadata": {
    "execution": {
     "iopub.execute_input": "2021-04-30T02:39:20.889670Z",
     "iopub.status.busy": "2021-04-30T02:39:20.881942Z",
     "iopub.status.idle": "2021-04-30T02:39:20.894454Z",
     "shell.execute_reply": "2021-04-30T02:39:20.893894Z"
    },
    "papermill": {
     "duration": 0.059129,
     "end_time": "2021-04-30T02:39:20.894600",
     "exception": false,
     "start_time": "2021-04-30T02:39:20.835471",
     "status": "completed"
    },
    "tags": []
   }
  },
  {
   "cell_type": "code",
   "execution_count": 14,
   "source": [
    "x_train = x_train.drop(drop_index)\n",
    "y_train = y_train.drop(drop_index)"
   ],
   "outputs": [],
   "metadata": {
    "execution": {
     "iopub.execute_input": "2021-04-30T02:39:20.960311Z",
     "iopub.status.busy": "2021-04-30T02:39:20.958209Z",
     "iopub.status.idle": "2021-04-30T02:39:20.963665Z",
     "shell.execute_reply": "2021-04-30T02:39:20.962970Z"
    },
    "papermill": {
     "duration": 0.039859,
     "end_time": "2021-04-30T02:39:20.963804",
     "exception": false,
     "start_time": "2021-04-30T02:39:20.923945",
     "status": "completed"
    },
    "tags": []
   }
  },
  {
   "cell_type": "code",
   "execution_count": 15,
   "source": [
    "numerical_feats = x_train.dtypes[x_train.dtypes != \"object\"].index\n",
    "print(\"Number of Numerical features: \", len(numerical_feats))\n",
    "\n",
    "categorical_feats = x_train.dtypes[x_train.dtypes == \"object\"].index\n",
    "print(\"Number of Categorical features: \", len(categorical_feats))"
   ],
   "outputs": [
    {
     "output_type": "stream",
     "name": "stdout",
     "text": [
      "Number of Numerical features:  36\n",
      "Number of Categorical features:  43\n"
     ]
    }
   ],
   "metadata": {
    "execution": {
     "iopub.execute_input": "2021-04-30T02:39:21.032336Z",
     "iopub.status.busy": "2021-04-30T02:39:21.031462Z",
     "iopub.status.idle": "2021-04-30T02:39:21.035453Z",
     "shell.execute_reply": "2021-04-30T02:39:21.035874Z"
    },
    "papermill": {
     "duration": 0.042874,
     "end_time": "2021-04-30T02:39:21.036062",
     "exception": false,
     "start_time": "2021-04-30T02:39:20.993188",
     "status": "completed"
    },
    "tags": []
   }
  },
  {
   "cell_type": "code",
   "execution_count": 16,
   "source": [
    "total = x_train.isnull().sum().sort_values(ascending=False)\n",
    "percent = (x_train.isnull().sum()/x_train.isnull().count()).sort_values(ascending=False)\n",
    "missing_data = pd.concat([total, percent], axis=1, keys=['Total', 'Percent'])\n",
    "missing_data.head(10)"
   ],
   "outputs": [
    {
     "output_type": "execute_result",
     "data": {
      "text/html": [
       "<div>\n",
       "<style scoped>\n",
       "    .dataframe tbody tr th:only-of-type {\n",
       "        vertical-align: middle;\n",
       "    }\n",
       "\n",
       "    .dataframe tbody tr th {\n",
       "        vertical-align: top;\n",
       "    }\n",
       "\n",
       "    .dataframe thead th {\n",
       "        text-align: right;\n",
       "    }\n",
       "</style>\n",
       "<table border=\"1\" class=\"dataframe\">\n",
       "  <thead>\n",
       "    <tr style=\"text-align: right;\">\n",
       "      <th></th>\n",
       "      <th>Total</th>\n",
       "      <th>Percent</th>\n",
       "    </tr>\n",
       "  </thead>\n",
       "  <tbody>\n",
       "    <tr>\n",
       "      <th>PoolQC</th>\n",
       "      <td>1446</td>\n",
       "      <td>0.996554</td>\n",
       "    </tr>\n",
       "    <tr>\n",
       "      <th>MiscFeature</th>\n",
       "      <td>1398</td>\n",
       "      <td>0.963473</td>\n",
       "    </tr>\n",
       "    <tr>\n",
       "      <th>Alley</th>\n",
       "      <td>1361</td>\n",
       "      <td>0.937974</td>\n",
       "    </tr>\n",
       "    <tr>\n",
       "      <th>Fence</th>\n",
       "      <td>1171</td>\n",
       "      <td>0.807030</td>\n",
       "    </tr>\n",
       "    <tr>\n",
       "      <th>FireplaceQu</th>\n",
       "      <td>689</td>\n",
       "      <td>0.474845</td>\n",
       "    </tr>\n",
       "    <tr>\n",
       "      <th>LotFrontage</th>\n",
       "      <td>258</td>\n",
       "      <td>0.177808</td>\n",
       "    </tr>\n",
       "    <tr>\n",
       "      <th>GarageCond</th>\n",
       "      <td>81</td>\n",
       "      <td>0.055824</td>\n",
       "    </tr>\n",
       "    <tr>\n",
       "      <th>GarageType</th>\n",
       "      <td>81</td>\n",
       "      <td>0.055824</td>\n",
       "    </tr>\n",
       "    <tr>\n",
       "      <th>GarageYrBlt</th>\n",
       "      <td>81</td>\n",
       "      <td>0.055824</td>\n",
       "    </tr>\n",
       "    <tr>\n",
       "      <th>GarageFinish</th>\n",
       "      <td>81</td>\n",
       "      <td>0.055824</td>\n",
       "    </tr>\n",
       "  </tbody>\n",
       "</table>\n",
       "</div>"
      ],
      "text/plain": [
       "              Total   Percent\n",
       "PoolQC         1446  0.996554\n",
       "MiscFeature    1398  0.963473\n",
       "Alley          1361  0.937974\n",
       "Fence          1171  0.807030\n",
       "FireplaceQu     689  0.474845\n",
       "LotFrontage     258  0.177808\n",
       "GarageCond       81  0.055824\n",
       "GarageType       81  0.055824\n",
       "GarageYrBlt      81  0.055824\n",
       "GarageFinish     81  0.055824"
      ]
     },
     "metadata": {},
     "execution_count": 16
    }
   ],
   "metadata": {
    "execution": {
     "iopub.execute_input": "2021-04-30T02:39:21.104941Z",
     "iopub.status.busy": "2021-04-30T02:39:21.104179Z",
     "iopub.status.idle": "2021-04-30T02:39:21.126427Z",
     "shell.execute_reply": "2021-04-30T02:39:21.126944Z"
    },
    "papermill": {
     "duration": 0.061677,
     "end_time": "2021-04-30T02:39:21.127132",
     "exception": false,
     "start_time": "2021-04-30T02:39:21.065455",
     "status": "completed"
    },
    "tags": []
   }
  },
  {
   "cell_type": "code",
   "execution_count": 17,
   "source": [
    "# Non-numeric variables that require attention\n",
    "non_num_vars = x_train.dtypes[x_train.dtypes=='object'].index\n",
    "print(non_num_vars)"
   ],
   "outputs": [
    {
     "output_type": "stream",
     "name": "stdout",
     "text": [
      "Index(['MSZoning', 'Street', 'Alley', 'LotShape', 'LandContour', 'Utilities',\n",
      "       'LotConfig', 'LandSlope', 'Neighborhood', 'Condition1', 'Condition2',\n",
      "       'BldgType', 'HouseStyle', 'RoofStyle', 'RoofMatl', 'Exterior1st',\n",
      "       'Exterior2nd', 'MasVnrType', 'ExterQual', 'ExterCond', 'Foundation',\n",
      "       'BsmtQual', 'BsmtCond', 'BsmtExposure', 'BsmtFinType1', 'BsmtFinType2',\n",
      "       'Heating', 'HeatingQC', 'CentralAir', 'Electrical', 'KitchenQual',\n",
      "       'Functional', 'FireplaceQu', 'GarageType', 'GarageFinish', 'GarageQual',\n",
      "       'GarageCond', 'PavedDrive', 'PoolQC', 'Fence', 'MiscFeature',\n",
      "       'SaleType', 'SaleCondition'],\n",
      "      dtype='object')\n"
     ]
    }
   ],
   "metadata": {
    "execution": {
     "iopub.execute_input": "2021-04-30T02:39:21.196220Z",
     "iopub.status.busy": "2021-04-30T02:39:21.195483Z",
     "iopub.status.idle": "2021-04-30T02:39:21.199872Z",
     "shell.execute_reply": "2021-04-30T02:39:21.198805Z"
    },
    "papermill": {
     "duration": 0.041278,
     "end_time": "2021-04-30T02:39:21.200043",
     "exception": false,
     "start_time": "2021-04-30T02:39:21.158765",
     "status": "completed"
    },
    "tags": []
   }
  },
  {
   "cell_type": "code",
   "execution_count": 18,
   "source": [
    "# Replace object/string values with categorial values from the \"data_description\" file from Kaggle\n",
    "mappings = dict(\n",
    "MSZoning_mapping      = {'nan':0, 'A':1, 'C (all)':2, 'FV':3, 'I':4, 'RH':5, 'RL':6, 'RP':7, 'RM':8},\n",
    "Street_mapping        = {'nan':0, 'Grvl':1, 'Pave':2},\n",
    "Alley_mapping         = {'nan':0, 'Grvl':1, 'Pave':2, 'NaN':0},\n",
    "LotShape_mapping      = {'nan':0, 'Reg':1, 'IR1':2, 'IR2':3, 'IR3':4 },\n",
    "LandContour_mapping   = {'nan':0, 'Lvl':1, 'Bnk':2, 'HLS':3, 'Low':4},\n",
    "Utilities_mapping     = {'nan':0, 'AllPub':1, 'NoSewr':2, 'NoSeWa':3, 'ELO':4},\n",
    "LotConfig_mapping     = {'nan':0, 'Inside':1, 'Corner':2, 'CulDSac':3, 'FR2':4, 'FR3':5},\n",
    "LandSlope_mapping     = {'nan':0, 'Gtl':1, 'Mod':2, 'Sev':3},\n",
    "Neighborhood_mapping  = {'nan':0, 'Blmngtn':1, 'Blueste':2, 'BrDale':3, 'BrkSide':4, 'ClearCr':5, 'CollgCr':6, 'Crawfor':7,\n",
    "                         'Edwards':8, 'Gilbert':9, 'IDOTRR':10, 'MeadowV':11, 'Mitchel':12, 'NAmes':13, 'NoRidge':14, \n",
    "                         'NPkVill':15, 'NridgHt':16, 'NWAmes':17, 'OldTown':18, 'SWISU':19, 'Sawyer':20, 'SawyerW':21, \n",
    "                         'Somerst':22, 'StoneBr':23, 'Timber':24, 'Veenker':25},\n",
    "Condition1_mapping    = {'nan':0, 'Artery':1, 'Feedr':2, 'Norm':3, 'RRNn':4, 'RRAn':5, 'PosN':6, 'PosA':7, 'RRNe':8, 'RRAe':9},\n",
    "Condition2_mapping    = {'nan':0, 'Artery':1, 'Feedr':2, 'Norm':3, 'RRNn':4, 'RRAn':5, 'PosN':6, 'PosA':7, 'RRNe':8, 'RRAe':9},\n",
    "BldgType_mapping      = {'nan':0, '1Fam':1, '2fmCon':2, 'Duplex':3, 'Twnhs':4, 'TwnhsE':4, 'TwnhsI':5},\n",
    "HouseStyle_mapping    = {'nan':0, '1Story':1, '1.5Fin':2, '1.5Unf':3, '2Story':4, '2.5Fin':5, '2.5Unf':6, 'SFoyer':7, 'SLvl':8},\n",
    "RoofStyle_mapping     = {'nan':0, 'Flat':1, 'Gable':2, 'Gambrel':3, 'Hip':4, 'Mansard':5, 'Shed':6},\n",
    "RoofMatl_mapping      = {'nan':0, 'ClyTile':1, 'CompShg':2, 'Membran':3, 'Metal':4, \n",
    "                         'Roll':5, 'Tar&Grv':6, 'WdShake':7, 'WdShngl':8},\n",
    "Exterior1st_mapping   = {'nan':0, 'AsbShng':1, 'AsphShn':2, 'BrkComm':3, 'BrkFace':4, 'CBlock':5, 'CemntBd':6, \n",
    "                         'HdBoard':7, 'ImStucc':8, 'MetalSd':9, 'Other':10, 'Plywood':11, 'PreCast':12, 'Stone':13, \n",
    "                         'Stucco':14, 'VinylSd':15,'Wd Sdng':16, 'WdShing':17},\n",
    "Exterior2nd_mapping   = {'nan':0, 'AsbShng':1, 'AsphShn':2, 'Brk Cmn':3, 'BrkFace':4, 'CBlock':5, 'CmentBd':6, \n",
    "                         'HdBoard':7, 'ImStucc':8, 'MetalSd':9, 'Other':10, 'Plywood':11, 'PreCast':12, 'Stone':13, \n",
    "                         'Stucco':14, 'VinylSd':15, 'Wd Shng':16, 'Wd Sdng':16, 'WdShing':17},\n",
    "MasVnrType_mapping    = {'nan':0, 'BrkCmn':1, 'BrkFace':2, 'CBlock':3, 'None':4, 'Stone':5},\n",
    "ExterQual_mapping     = {'nan':0, 'Ex':1, 'Gd':2, 'TA':3, 'Fa':4, 'Po':5},\n",
    "ExterCond_mapping     = {'nan':0, 'Ex':1, 'Gd':2, 'TA':3, 'Fa':4, 'Po':5},\n",
    "Foundation_mapping    = {'nan':0, 'BrkTil':1, 'CBlock':2, 'PConc':3, 'Slab':4, 'Stone':5, 'Wood':6},\n",
    "BsmtQual_mapping      = {'nan':0, 'Ex':1, 'Gd':2, 'TA':3, 'Fa':4, 'Po':5, 'NA':0},\n",
    "BsmtCond_mapping      = {'nan':0, 'Ex':1, 'Gd':2, 'TA':3, 'Fa':4, 'Po':5, 'NA':0},\n",
    "BsmtExposure_mapping  = {'nan':0, 'Gd':1, 'Av':2, 'Mn':3, 'No':4, 'NA':5},\n",
    "BsmtFinType1_mapping  = {'nan':0, 'GLQ':1, 'ALQ':2, 'BLQ':3, 'Rec':4, 'LwQ':5, 'Unf':6, 'NA':0},\n",
    "BsmtFinType2_mapping  = {'nan':0, 'GLQ':1, 'ALQ':2, 'BLQ':3, 'Rec':4, 'LwQ':5, 'Unf':6, 'NA':0},\n",
    "Heating_mapping       = {'nan':0, 'Floor':1, 'GasA':2, 'GasW':3, 'Grav':4, 'OthW':5, 'Wall':6},\n",
    "HeatingQC_mapping     = {'nan':0, 'Ex':1, 'Gd':2, 'TA':3, 'Fa':4, 'Po':5},\n",
    "CentralAir_mapping    = {'nan':0, 'N':1, 'Y':2},\n",
    "Electrical_mapping    = {'nan':0, 'SBrkr':1, 'FuseA':2, 'FuseF':3, 'FuseP':4, 'Mix':5},\n",
    "KitchenQual_mapping   = {'nan':0, 'Ex':1, 'Gd':2, 'TA':3, 'Fa':4, 'Po':5},\n",
    "Functional_mapping    = {'nan':0, 'Typ':1, 'Min1':2, 'Min2':3, 'Mod':4, 'Maj1':5, 'Maj2':6, 'Sev':7, 'Sal':8},\n",
    "FireplaceQu_mapping   = {'nan':0, 'Ex':1, 'Gd':2, 'TA':3, 'Fa':4, 'Po':5, 'NA':0},\n",
    "GarageType_mapping    = {'nan':0, '2Types':1, 'Attchd':2, 'Basment':3, 'BuiltIn':4, 'CarPort':5, 'Detchd':6, 'NA':0},\n",
    "GarageFinish_mapping  = {'nan':0, 'Fin':1, 'RFn':2, 'Unf':3, 'NA':0},\n",
    "GarageQual_mapping    = {'nan':0, 'Ex':1, 'Gd':2, 'TA':3, 'Fa':4, 'Po':5, 'NA':0},\n",
    "GarageCond_mapping    = {'nan':0, 'Ex':1, 'Gd':2, 'TA':3, 'Fa':4, 'Po':5, 'NA':0},\n",
    "PavedDrive_mapping    = {'nan':0, 'Y':1, 'P':2, 'N':3},\n",
    "PoolQC_mapping        = {'nan':0, 'Ex':1, 'Gd':2, 'TA':3, 'Fa':4, 'NA':0},\n",
    "Fence_mapping         = {'nan':0, 'GdPrv':1, 'MnPrv':2, 'GdWo':3, 'MnWw':4, 'NA':0},\n",
    "MiscFeature_mapping   = {'nan':0, 'Elev':1, 'Gar2':2, 'Othr':3, 'Shed':4, 'TenC':5, 'NA':0},\n",
    "SaleType_mapping      = {'nan':0, 'WD':1, 'CWD':2, 'VWD':3, 'New':4, 'COD':5, 'Con':6, 'ConLw':7, 'ConLI':8,\n",
    "                         'ConLD':9, 'Oth':10},\n",
    "SaleCondition_mapping = {'nan':0, 'Normal':1, 'Abnorml':2, 'AdjLand':3, 'Alloca':4, 'Family':5, 'Partial':6})"
   ],
   "outputs": [],
   "metadata": {
    "execution": {
     "iopub.execute_input": "2021-04-30T02:39:21.276481Z",
     "iopub.status.busy": "2021-04-30T02:39:21.275459Z",
     "iopub.status.idle": "2021-04-30T02:39:21.294171Z",
     "shell.execute_reply": "2021-04-30T02:39:21.294608Z"
    },
    "papermill": {
     "duration": 0.061255,
     "end_time": "2021-04-30T02:39:21.294794",
     "exception": false,
     "start_time": "2021-04-30T02:39:21.233539",
     "status": "completed"
    },
    "tags": []
   }
  },
  {
   "cell_type": "code",
   "execution_count": 19,
   "source": [
    "x_train = x_train.replace({list(non_num_vars)[k] : list(mappings.values())[k] \n",
    "                           for k in np.arange(len(list(non_num_vars)))}).fillna(0)\n",
    "x_test  = x_test.replace({list(non_num_vars)[k] : list(mappings.values())[k] \n",
    "                           for k in np.arange(len(list(non_num_vars)))}).fillna(0)\n",
    "\n",
    "print('x_train {} | y_train {} \\nx_test  {}'.format(x_train.shape, y_train.shape, x_test.shape))"
   ],
   "outputs": [
    {
     "output_type": "stream",
     "name": "stdout",
     "text": [
      "x_train (1451, 79) | y_train (1451,) \n",
      "x_test  (1459, 79)\n"
     ]
    }
   ],
   "metadata": {
    "execution": {
     "iopub.execute_input": "2021-04-30T02:39:21.370942Z",
     "iopub.status.busy": "2021-04-30T02:39:21.369694Z",
     "iopub.status.idle": "2021-04-30T02:39:21.593621Z",
     "shell.execute_reply": "2021-04-30T02:39:21.593111Z"
    },
    "papermill": {
     "duration": 0.268191,
     "end_time": "2021-04-30T02:39:21.593779",
     "exception": false,
     "start_time": "2021-04-30T02:39:21.325588",
     "status": "completed"
    },
    "tags": []
   }
  },
  {
   "cell_type": "code",
   "execution_count": 20,
   "source": [
    "numerical_feats = x_train.dtypes[x_train.dtypes != \"object\"].index\n",
    "print(\"Number of Numerical features: \", len(numerical_feats))\n",
    "\n",
    "categorical_feats = x_train.dtypes[x_train.dtypes == \"object\"].index\n",
    "print(\"Number of Categorical features: \", len(categorical_feats))"
   ],
   "outputs": [
    {
     "output_type": "stream",
     "name": "stdout",
     "text": [
      "Number of Numerical features:  79\n",
      "Number of Categorical features:  0\n"
     ]
    }
   ],
   "metadata": {
    "execution": {
     "iopub.execute_input": "2021-04-30T02:39:21.665578Z",
     "iopub.status.busy": "2021-04-30T02:39:21.664741Z",
     "iopub.status.idle": "2021-04-30T02:39:21.668117Z",
     "shell.execute_reply": "2021-04-30T02:39:21.668668Z"
    },
    "papermill": {
     "duration": 0.043926,
     "end_time": "2021-04-30T02:39:21.668875",
     "exception": false,
     "start_time": "2021-04-30T02:39:21.624949",
     "status": "completed"
    },
    "tags": []
   }
  },
  {
   "cell_type": "code",
   "execution_count": 21,
   "source": [
    "all_data = pd.concat((x_train, x_test)).reset_index(drop=True)"
   ],
   "outputs": [],
   "metadata": {
    "execution": {
     "iopub.execute_input": "2021-04-30T02:39:21.736236Z",
     "iopub.status.busy": "2021-04-30T02:39:21.735277Z",
     "iopub.status.idle": "2021-04-30T02:39:21.751219Z",
     "shell.execute_reply": "2021-04-30T02:39:21.751710Z"
    },
    "papermill": {
     "duration": 0.05153,
     "end_time": "2021-04-30T02:39:21.751941",
     "exception": false,
     "start_time": "2021-04-30T02:39:21.700411",
     "status": "completed"
    },
    "tags": []
   }
  },
  {
   "cell_type": "code",
   "execution_count": 22,
   "source": [
    "# Check the skew of all numerical features\n",
    "skewed_feats = all_data[numerical_feats].apply(lambda x: skew(x.dropna())).sort_values(ascending=False)\n",
    "print(\"\\nSkew in numerical features: \\n\")\n",
    "skewness = pd.DataFrame({'Skew' :skewed_feats})\n",
    "skewness.head(10)"
   ],
   "outputs": [
    {
     "output_type": "stream",
     "name": "stdout",
     "text": [
      "\n",
      "Skew in numerical features: \n",
      "\n"
     ]
    },
    {
     "output_type": "execute_result",
     "data": {
      "text/html": [
       "<div>\n",
       "<style scoped>\n",
       "    .dataframe tbody tr th:only-of-type {\n",
       "        vertical-align: middle;\n",
       "    }\n",
       "\n",
       "    .dataframe tbody tr th {\n",
       "        vertical-align: top;\n",
       "    }\n",
       "\n",
       "    .dataframe thead th {\n",
       "        text-align: right;\n",
       "    }\n",
       "</style>\n",
       "<table border=\"1\" class=\"dataframe\">\n",
       "  <thead>\n",
       "    <tr style=\"text-align: right;\">\n",
       "      <th></th>\n",
       "      <th>Skew</th>\n",
       "    </tr>\n",
       "  </thead>\n",
       "  <tbody>\n",
       "    <tr>\n",
       "      <th>PoolQC</th>\n",
       "      <td>25.893964</td>\n",
       "    </tr>\n",
       "    <tr>\n",
       "      <th>Utilities</th>\n",
       "      <td>22.022716</td>\n",
       "    </tr>\n",
       "    <tr>\n",
       "      <th>MiscVal</th>\n",
       "      <td>21.923073</td>\n",
       "    </tr>\n",
       "    <tr>\n",
       "      <th>PoolArea</th>\n",
       "      <td>18.685646</td>\n",
       "    </tr>\n",
       "    <tr>\n",
       "      <th>LotArea</th>\n",
       "      <td>13.153061</td>\n",
       "    </tr>\n",
       "    <tr>\n",
       "      <th>Condition2</th>\n",
       "      <td>12.458280</td>\n",
       "    </tr>\n",
       "    <tr>\n",
       "      <th>LowQualFinSF</th>\n",
       "      <td>12.069749</td>\n",
       "    </tr>\n",
       "    <tr>\n",
       "      <th>Heating</th>\n",
       "      <td>12.059796</td>\n",
       "    </tr>\n",
       "    <tr>\n",
       "      <th>3SsnPorch</th>\n",
       "      <td>11.358122</td>\n",
       "    </tr>\n",
       "    <tr>\n",
       "      <th>RoofMatl</th>\n",
       "      <td>8.809237</td>\n",
       "    </tr>\n",
       "  </tbody>\n",
       "</table>\n",
       "</div>"
      ],
      "text/plain": [
       "                   Skew\n",
       "PoolQC        25.893964\n",
       "Utilities     22.022716\n",
       "MiscVal       21.923073\n",
       "PoolArea      18.685646\n",
       "LotArea       13.153061\n",
       "Condition2    12.458280\n",
       "LowQualFinSF  12.069749\n",
       "Heating       12.059796\n",
       "3SsnPorch     11.358122\n",
       "RoofMatl       8.809237"
      ]
     },
     "metadata": {},
     "execution_count": 22
    }
   ],
   "metadata": {
    "execution": {
     "iopub.execute_input": "2021-04-30T02:39:21.820180Z",
     "iopub.status.busy": "2021-04-30T02:39:21.819168Z",
     "iopub.status.idle": "2021-04-30T02:39:21.881656Z",
     "shell.execute_reply": "2021-04-30T02:39:21.882122Z"
    },
    "papermill": {
     "duration": 0.098741,
     "end_time": "2021-04-30T02:39:21.882316",
     "exception": false,
     "start_time": "2021-04-30T02:39:21.783575",
     "status": "completed"
    },
    "tags": []
   }
  },
  {
   "cell_type": "code",
   "execution_count": 23,
   "source": [
    "skewness = skewness[abs(skewness) > 0.5]\n",
    "print(\"There are {} skewed numerical features to Box Cox transform\".format(skewness.shape[0]))\n",
    "\n",
    "from scipy.special import boxcox1p\n",
    "skewed_features = skewness.index\n",
    "lam = 0.15\n",
    "for feat in skewed_features:\n",
    "    #all_data[feat] += 1\n",
    "    all_data[feat] = boxcox1p(all_data[feat], lam)"
   ],
   "outputs": [
    {
     "output_type": "stream",
     "name": "stdout",
     "text": [
      "There are 79 skewed numerical features to Box Cox transform\n"
     ]
    }
   ],
   "metadata": {
    "execution": {
     "iopub.execute_input": "2021-04-30T02:39:21.958128Z",
     "iopub.status.busy": "2021-04-30T02:39:21.957463Z",
     "iopub.status.idle": "2021-04-30T02:39:22.001286Z",
     "shell.execute_reply": "2021-04-30T02:39:22.001766Z"
    },
    "papermill": {
     "duration": 0.087054,
     "end_time": "2021-04-30T02:39:22.002008",
     "exception": false,
     "start_time": "2021-04-30T02:39:21.914954",
     "status": "completed"
    },
    "tags": []
   }
  },
  {
   "cell_type": "code",
   "execution_count": 24,
   "source": [
    "all_data = pd.get_dummies(all_data)\n",
    "print(all_data.shape)"
   ],
   "outputs": [
    {
     "output_type": "stream",
     "name": "stdout",
     "text": [
      "(2910, 79)\n"
     ]
    }
   ],
   "metadata": {
    "execution": {
     "iopub.execute_input": "2021-04-30T02:39:22.073296Z",
     "iopub.status.busy": "2021-04-30T02:39:22.072461Z",
     "iopub.status.idle": "2021-04-30T02:39:22.086851Z",
     "shell.execute_reply": "2021-04-30T02:39:22.086154Z"
    },
    "papermill": {
     "duration": 0.051982,
     "end_time": "2021-04-30T02:39:22.087020",
     "exception": false,
     "start_time": "2021-04-30T02:39:22.035038",
     "status": "completed"
    },
    "tags": []
   }
  },
  {
   "cell_type": "code",
   "execution_count": 25,
   "source": [
    "original_x_train = x_train.copy()\n",
    "original_x_test = x_test.copy()\n",
    "\n",
    "x_train = all_data[:len(x_train)]\n",
    "x_test = all_data[len(x_train):]"
   ],
   "outputs": [],
   "metadata": {
    "execution": {
     "iopub.execute_input": "2021-04-30T02:39:22.162750Z",
     "iopub.status.busy": "2021-04-30T02:39:22.161944Z",
     "iopub.status.idle": "2021-04-30T02:39:22.168432Z",
     "shell.execute_reply": "2021-04-30T02:39:22.167569Z"
    },
    "papermill": {
     "duration": 0.045679,
     "end_time": "2021-04-30T02:39:22.168635",
     "exception": false,
     "start_time": "2021-04-30T02:39:22.122956",
     "status": "completed"
    },
    "tags": []
   }
  },
  {
   "cell_type": "markdown",
   "source": [
    "***"
   ],
   "metadata": {
    "papermill": {
     "duration": 0.033388,
     "end_time": "2021-04-30T02:39:22.236479",
     "exception": false,
     "start_time": "2021-04-30T02:39:22.203091",
     "status": "completed"
    },
    "tags": []
   }
  },
  {
   "cell_type": "code",
   "execution_count": 26,
   "source": [
    "# from sklearn.linear_model import LinearRegression\n",
    "\n",
    "# lr = LinearRegression()\n",
    "# lr.fit(x_train, y_train)\n",
    "# pred = lr.predict(x_test)\n",
    "# pred_train = lr.predict(x_train)\n",
    "# r2 = r2_score(y_train,pred_train)\n",
    "# rmse = np.sqrt(mean_squared_error(y_train,pred_train))\n",
    "# print( 'R^2:', r2_score(y_train, pred_train ))\n",
    "# print( 'MAE:', mean_absolute_error(y_train, pred_train))"
   ],
   "outputs": [],
   "metadata": {
    "execution": {
     "iopub.execute_input": "2021-04-30T02:39:22.307208Z",
     "iopub.status.busy": "2021-04-30T02:39:22.306555Z",
     "iopub.status.idle": "2021-04-30T02:39:22.310552Z",
     "shell.execute_reply": "2021-04-30T02:39:22.309887Z"
    },
    "papermill": {
     "duration": 0.040856,
     "end_time": "2021-04-30T02:39:22.310699",
     "exception": false,
     "start_time": "2021-04-30T02:39:22.269843",
     "status": "completed"
    },
    "tags": []
   }
  },
  {
   "cell_type": "code",
   "execution_count": 27,
   "source": [
    "# from sklearn.ensemble import RandomForestRegressor\n",
    "\n",
    "# rf = RandomForestRegressor() #default features\n",
    "# rf_fit = rf.fit(x_train, y_train)\n",
    "# pred = rf_fit.predict(x_test)\n",
    "# pred_train = rf.predict(x_train)\n",
    "# r2 = r2_score(y_train,pred_train)\n",
    "# rmse = np.sqrt(mean_squared_error(y_train,pred_train))\n",
    "# print( 'R^2:', r2_score(y_train, pred_train ))\n",
    "# print( 'MAE:', mean_absolute_error(y_train, pred_train))"
   ],
   "outputs": [],
   "metadata": {
    "execution": {
     "iopub.execute_input": "2021-04-30T02:39:22.381112Z",
     "iopub.status.busy": "2021-04-30T02:39:22.380466Z",
     "iopub.status.idle": "2021-04-30T02:39:22.383792Z",
     "shell.execute_reply": "2021-04-30T02:39:22.383160Z"
    },
    "papermill": {
     "duration": 0.040325,
     "end_time": "2021-04-30T02:39:22.383950",
     "exception": false,
     "start_time": "2021-04-30T02:39:22.343625",
     "status": "completed"
    },
    "tags": []
   }
  },
  {
   "cell_type": "code",
   "execution_count": 28,
   "source": [
    "# import xgboost\n",
    "# # reg = xgboost.XGBRegressor().fit(x_train, y_train)\n",
    "# xgbmodel = xgboost.XGBRegressor(colsample_bytree=0.4603, gamma=0.0468, \n",
    "#                              learning_rate=0.05, max_depth=3, \n",
    "#                              min_child_weight=1.7817, n_estimators=2200,\n",
    "#                              reg_alpha=0.4640, reg_lambda=0.8571,\n",
    "#                              subsample=0.5213, silent=1,\n",
    "#                              random_state =7, nthread = -1)\n",
    "# reg = xgbmodel.fit(x_train, y_train)\n",
    "# pred = reg.predict(x_test)\n",
    "# pred_train = reg.predict(x_train)\n",
    "# r2 = r2_score(y_train,pred_train)\n",
    "# rmse = np.sqrt(mean_squared_error(y_train,pred_train))\n",
    "# print( 'R^2:', r2_score(y_train, pred_train ))\n",
    "# print( 'MAE:', mean_absolute_error(y_train, pred_train))"
   ],
   "outputs": [],
   "metadata": {
    "execution": {
     "iopub.execute_input": "2021-04-30T02:39:22.455923Z",
     "iopub.status.busy": "2021-04-30T02:39:22.455320Z",
     "iopub.status.idle": "2021-04-30T02:39:22.458101Z",
     "shell.execute_reply": "2021-04-30T02:39:22.457650Z"
    },
    "papermill": {
     "duration": 0.040207,
     "end_time": "2021-04-30T02:39:22.458234",
     "exception": false,
     "start_time": "2021-04-30T02:39:22.418027",
     "status": "completed"
    },
    "tags": []
   }
  },
  {
   "cell_type": "code",
   "execution_count": 29,
   "source": [
    "# gbrt = GradientBoostingRegressor(max_depth=2048, warm_start=True)\n",
    "# min_val_error = float(\"inf\") \n",
    "# error_going_up = 0\n",
    "# size=len(x_train)\n",
    "# x_val, y_val = x_train[size-400:], y_train[size-400:]\n",
    "# x_train_new, y_train_new = x_train[:-400], y_train[:-400]\n",
    "\n",
    "# for n_estimators in range(1, 12000):\n",
    "#     gbrt.n_estimators = n_estimators \n",
    "#     gbrt.fit(x_train_new, y_train_new)\n",
    "#     y_pred = gbrt.predict(x_val)\n",
    "#     val_error = mean_squared_error(y_val, y_pred) \n",
    "#     if val_error < min_val_error:\n",
    "#         min_val_error = val_error\n",
    "#         error_going_up = 0\n",
    "#     else:\n",
    "#         error_going_up += 1\n",
    "#         if error_going_up == 10:\n",
    "#             break # early stopping\n",
    "            \n",
    "# pred = gbrt.predict(x_test)\n",
    "# pred_train = gbrt.predict(x_train)\n",
    "# r2 = r2_score(y_train,pred_train)\n",
    "# rmse = np.sqrt(mean_squared_error(y_train,pred_train))\n",
    "# print( 'R^2:', r2_score(y_train, pred_train ))\n",
    "# print( 'MAE:', mean_absolute_error(y_train, pred_train))"
   ],
   "outputs": [],
   "metadata": {
    "execution": {
     "iopub.execute_input": "2021-04-30T02:39:22.533653Z",
     "iopub.status.busy": "2021-04-30T02:39:22.532994Z",
     "iopub.status.idle": "2021-04-30T02:39:22.535893Z",
     "shell.execute_reply": "2021-04-30T02:39:22.535386Z"
    },
    "papermill": {
     "duration": 0.044814,
     "end_time": "2021-04-30T02:39:22.536034",
     "exception": false,
     "start_time": "2021-04-30T02:39:22.491220",
     "status": "completed"
    },
    "tags": []
   }
  },
  {
   "cell_type": "code",
   "execution_count": 30,
   "source": [
    "#Define our base and meta models for stacking\n",
    "\n",
    "base_models = (KernelRidge(),\n",
    "               make_pipeline(RobustScaler(),Lasso(alpha=0.0005, random_state=1)),\n",
    "               make_pipeline(RobustScaler(),ElasticNet(alpha=0.0005, l1_ratio=0.9)),             \n",
    "               make_pipeline(StandardScaler(),GradientBoostingRegressor(learning_rate=0.005, \n",
    "                                                                        loss='huber',\n",
    "                                                                        max_depth=4, \n",
    "                                                                        max_features='sqrt',\n",
    "                                                                        min_samples_leaf=15,\n",
    "                                                                        min_samples_split=10,\n",
    "                                                                        n_estimators=3000,\n",
    "                                                                        random_state=1,\n",
    "                                                                       )))\n",
    "    \n",
    "meta_model = lightgbm.LGBMRegressor(objective='regression',num_leaves=5,\n",
    "                              learning_rate=0.05, n_estimators=720,\n",
    "                              max_bin = 55, bagging_fraction = 0.8,\n",
    "                              bagging_freq = 5, feature_fraction = 0.2319,\n",
    "                              feature_fraction_seed=9, bagging_seed=9,\n",
    "                              min_data_in_leaf =6, min_sum_hessian_in_leaf = 11)\n"
   ],
   "outputs": [],
   "metadata": {
    "execution": {
     "iopub.execute_input": "2021-04-30T02:39:22.611657Z",
     "iopub.status.busy": "2021-04-30T02:39:22.610938Z",
     "iopub.status.idle": "2021-04-30T02:39:22.613417Z",
     "shell.execute_reply": "2021-04-30T02:39:22.613861Z"
    },
    "papermill": {
     "duration": 0.043795,
     "end_time": "2021-04-30T02:39:22.614040",
     "exception": false,
     "start_time": "2021-04-30T02:39:22.570245",
     "status": "completed"
    },
    "tags": []
   }
  },
  {
   "cell_type": "code",
   "execution_count": 31,
   "source": [
    "#Building the stacking model\n",
    "n_folds = 10\n",
    "kfold = KFold(n_folds, shuffle=True, random_state=42).get_n_splits(x_train)\n",
    "\n",
    "stack = StackingCVRegressor(regressors=base_models,\n",
    "                            meta_regressor=meta_model, \n",
    "                            use_features_in_secondary=True,\n",
    "                            store_train_meta_features=True,\n",
    "                            shuffle=False,cv=kfold,\n",
    "                            random_state=1)"
   ],
   "outputs": [],
   "metadata": {
    "execution": {
     "iopub.execute_input": "2021-04-30T02:39:22.687056Z",
     "iopub.status.busy": "2021-04-30T02:39:22.686431Z",
     "iopub.status.idle": "2021-04-30T02:39:22.689196Z",
     "shell.execute_reply": "2021-04-30T02:39:22.688585Z"
    },
    "papermill": {
     "duration": 0.041755,
     "end_time": "2021-04-30T02:39:22.689337",
     "exception": false,
     "start_time": "2021-04-30T02:39:22.647582",
     "status": "completed"
    },
    "tags": []
   }
  },
  {
   "cell_type": "code",
   "execution_count": 32,
   "source": [
    "reg = stack.fit(x_train, y_train)\n",
    "pred = np.expm1(reg.predict(x_test))\n",
    "pred_train = reg.predict(x_train)\n",
    "r2 = r2_score(y_train,pred_train)\n",
    "rmse = np.sqrt(mean_squared_error(y_train,pred_train))\n",
    "print('RMSE:',  rmse)\n",
    "print( 'R^2:', r2_score(y_train, pred_train ))\n",
    "print( 'MAE:', mean_absolute_error(y_train, pred_train))"
   ],
   "outputs": [
    {
     "output_type": "stream",
     "name": "stdout",
     "text": [
      "[LightGBM] [Warning] min_sum_hessian_in_leaf is set=11, min_child_weight=0.001 will be ignored. Current value: min_sum_hessian_in_leaf=11\n",
      "[LightGBM] [Warning] bagging_freq is set=5, subsample_freq=0 will be ignored. Current value: bagging_freq=5\n",
      "[LightGBM] [Warning] min_data_in_leaf is set=6, min_child_samples=20 will be ignored. Current value: min_data_in_leaf=6\n",
      "[LightGBM] [Warning] feature_fraction is set=0.2319, colsample_bytree=1.0 will be ignored. Current value: feature_fraction=0.2319\n",
      "[LightGBM] [Warning] bagging_fraction is set=0.8, subsample=1.0 will be ignored. Current value: bagging_fraction=0.8\n",
      "RMSE: 0.06842057776549416\n",
      "R^2: 0.9696741529245333\n",
      "MAE: 0.04749910257123155\n"
     ]
    }
   ],
   "metadata": {
    "execution": {
     "iopub.execute_input": "2021-04-30T02:39:22.759675Z",
     "iopub.status.busy": "2021-04-30T02:39:22.759052Z",
     "iopub.status.idle": "2021-04-30T02:42:25.246869Z",
     "shell.execute_reply": "2021-04-30T02:42:25.246100Z"
    },
    "papermill": {
     "duration": 182.524349,
     "end_time": "2021-04-30T02:42:25.247067",
     "exception": false,
     "start_time": "2021-04-30T02:39:22.722718",
     "status": "completed"
    },
    "tags": []
   }
  },
  {
   "cell_type": "code",
   "execution_count": 33,
   "source": [
    "id_test = test_df['Id']\n",
    "\n",
    "pred_pd = pd.DataFrame()\n",
    "pred_pd['Id'] = id_test\n",
    "pred_pd['SalePrice'] = pred\n",
    "\n",
    "pred_pd.head\n",
    "pred_pd.to_csv('submission_StochasticResults_RF.csv',index=False)"
   ],
   "outputs": [],
   "metadata": {
    "execution": {
     "iopub.execute_input": "2021-04-30T02:42:25.320049Z",
     "iopub.status.busy": "2021-04-30T02:42:25.319094Z",
     "iopub.status.idle": "2021-04-30T02:42:25.335145Z",
     "shell.execute_reply": "2021-04-30T02:42:25.334155Z"
    },
    "papermill": {
     "duration": 0.054055,
     "end_time": "2021-04-30T02:42:25.335296",
     "exception": false,
     "start_time": "2021-04-30T02:42:25.281241",
     "status": "completed"
    },
    "tags": []
   }
  },
  {
   "cell_type": "markdown",
   "source": [
    "***"
   ],
   "metadata": {
    "papermill": {
     "duration": 0.034004,
     "end_time": "2021-04-30T02:42:25.403971",
     "exception": false,
     "start_time": "2021-04-30T02:42:25.369967",
     "status": "completed"
    },
    "tags": []
   }
  },
  {
   "cell_type": "markdown",
   "source": [
    "***"
   ],
   "metadata": {
    "papermill": {
     "duration": 0.033966,
     "end_time": "2021-04-30T02:42:25.471657",
     "exception": false,
     "start_time": "2021-04-30T02:42:25.437691",
     "status": "completed"
    },
    "tags": []
   }
  },
  {
   "cell_type": "markdown",
   "source": [
    "# Exploratory Data Analysis packages\n",
    "from sklearn.preprocessing import StandardScaler, RobustScaler\n",
    "from sklearn.decomposition import PCA  \n",
    "from sklearn.manifold import TSNE\n",
    "from sklearn.cluster import KMeans, AgglomerativeClustering\n",
    "from sklearn.mixture import GaussianMixture\n",
    "from sklearn.neighbors import LocalOutlierFactor\n",
    "from sklearn.linear_model import LinearRegression, ElasticNet, Lasso,  BayesianRidge, LassoLarsIC\n",
    "from sklearn.kernel_ridge import KernelRidge\n",
    "from sklearn.pipeline import make_pipeline\n",
    "from sklearn.ensemble import (BaggingRegressor, AdaBoostRegressor,GradientBoostingRegressor, \n",
    "                              RandomForestRegressor,  GradientBoostingRegressor)\n",
    "from sklearn.model_selection import StratifiedKFold, KFold, cross_val_score\n",
    "from sklearn.base import BaseEstimator, TransformerMixin, RegressorMixin, clone\n",
    "from mlxtend.regressor import StackingCVRegressor\n",
    "from sklearn.metrics import r2_score, mean_absolute_error\n",
    "\n",
    "from scipy.stats import norm, skew #for some statistics\n",
    "\n",
    "from lightgbm import LGBMRegressor\n",
    "import xgboost\n",
    "import lightgbm# End of Notebook"
   ],
   "metadata": {
    "papermill": {
     "duration": 0.033804,
     "end_time": "2021-04-30T02:42:25.539464",
     "exception": false,
     "start_time": "2021-04-30T02:42:25.505660",
     "status": "completed"
    },
    "tags": []
   }
  }
 ],
 "metadata": {
  "kernelspec": {
   "name": "python3",
   "display_name": "Python 3.8.3 64-bit ('base': conda)"
  },
  "language_info": {
   "codemirror_mode": {
    "name": "ipython",
    "version": 3
   },
   "file_extension": ".py",
   "mimetype": "text/x-python",
   "name": "python",
   "nbconvert_exporter": "python",
   "pygments_lexer": "ipython3",
   "version": "3.8.3"
  },
  "papermill": {
   "default_parameters": {},
   "duration": 206.025739,
   "end_time": "2021-04-30T02:42:27.300895",
   "environment_variables": {},
   "exception": null,
   "input_path": "__notebook__.ipynb",
   "output_path": "__notebook__.ipynb",
   "parameters": {},
   "start_time": "2021-04-30T02:39:01.275156",
   "version": "2.3.3"
  },
  "interpreter": {
   "hash": "9d8c15d659ffb2ade8a288a58f29cb00da5d48dde99b2e2fc983ea3e34ff0584"
  }
 },
 "nbformat": 4,
 "nbformat_minor": 5
}